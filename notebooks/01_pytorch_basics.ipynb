{
  "nbformat": 4,
  "nbformat_minor": 0,
  "metadata": {
    "colab": {
      "name": "01_pytorch_basics.ipynb",
      "version": "0.3.2",
      "provenance": [],
      "include_colab_link": true
    },
    "kernelspec": {
      "display_name": "Python 3",
      "language": "python",
      "name": "python3"
    }
  },
  "cells": [
    {
      "cell_type": "markdown",
      "metadata": {
        "id": "view-in-github",
        "colab_type": "text"
      },
      "source": [
        "<a href=\"https://colab.research.google.com/github/ysl208/pytorch_tutorial/blob/master/notebooks/01_pytorch_basics.ipynb\" target=\"_parent\"><img src=\"https://colab.research.google.com/assets/colab-badge.svg\" alt=\"Open In Colab\"/></a>"
      ]
    },
    {
      "metadata": {
        "id": "Suop_td9b5I8",
        "colab_type": "text"
      },
      "cell_type": "markdown",
      "source": [
        "# PyTorch Basics"
      ]
    },
    {
      "metadata": {
        "id": "pvpUb3Nxb5JK",
        "colab_type": "text"
      },
      "cell_type": "markdown",
      "source": [
        "## Init, helpers, utils, ..."
      ]
    },
    {
      "metadata": {
        "id": "Tc1bZxKYb5JP",
        "colab_type": "code",
        "colab": {}
      },
      "cell_type": "code",
      "source": [
        "import torch\n",
        "import torch.nn as nn\n",
        "import torch.nn.functional as F\n",
        "import torchvision"
      ],
      "execution_count": 0,
      "outputs": []
    },
    {
      "metadata": {
        "id": "XMe6XO2ocCBp",
        "colab_type": "code",
        "colab": {}
      },
      "cell_type": "code",
      "source": [
        "# http://pytorch.org/\n",
        "from os.path import exists\n",
        "from wheel.pep425tags import get_abbr_impl, get_impl_ver, get_abi_tag\n",
        "platform = '{}{}-{}'.format(get_abbr_impl(), get_impl_ver(), get_abi_tag())\n",
        "cuda_output = !ldconfig -p|grep cudart.so|sed -e 's/.*\\.\\([0-9]*\\)\\.\\([0-9]*\\)$/cu\\1\\2/'\n",
        "accelerator = cuda_output[0] if exists('/dev/nvidia0') else 'cpu'\n",
        "\n",
        "!pip install -q http://download.pytorch.org/whl/{accelerator}/torch-0.4.1-{platform}-linux_x86_64.whl torchvision\n",
        "import torch"
      ],
      "execution_count": 0,
      "outputs": []
    },
    {
      "metadata": {
        "id": "UNUh5Qeob5Jd",
        "colab_type": "code",
        "colab": {}
      },
      "cell_type": "code",
      "source": [
        "import matplotlib.pyplot as plt\n",
        "from pprint import pprint\n",
        "import numpy as np\n",
        "\n",
        "from IPython.core.debugger import set_trace\n",
        "\n",
        "%matplotlib inline"
      ],
      "execution_count": 0,
      "outputs": []
    },
    {
      "metadata": {
        "id": "X2Jqri7Rb5Jo",
        "colab_type": "code",
        "colab": {
          "base_uri": "https://localhost:8080/",
          "height": 304
        },
        "outputId": "d01fd85e-9bcd-4401-8c7c-180f7f85d528"
      },
      "cell_type": "code",
      "source": [
        "from ppt.utils import attr"
      ],
      "execution_count": 7,
      "outputs": [
        {
          "output_type": "error",
          "ename": "ModuleNotFoundError",
          "evalue": "ignored",
          "traceback": [
            "\u001b[0;31m---------------------------------------------------------------------------\u001b[0m",
            "\u001b[0;31mModuleNotFoundError\u001b[0m                       Traceback (most recent call last)",
            "\u001b[0;32m<ipython-input-7-0bea746a14f8>\u001b[0m in \u001b[0;36m<module>\u001b[0;34m()\u001b[0m\n\u001b[0;32m----> 1\u001b[0;31m \u001b[0;32mfrom\u001b[0m \u001b[0mppt\u001b[0m\u001b[0;34m.\u001b[0m\u001b[0mutils\u001b[0m \u001b[0;32mimport\u001b[0m \u001b[0mattr\u001b[0m\u001b[0;34m\u001b[0m\u001b[0m\n\u001b[0m",
            "\u001b[0;31mModuleNotFoundError\u001b[0m: No module named 'ppt'",
            "",
            "\u001b[0;31m---------------------------------------------------------------------------\u001b[0;32m\nNOTE: If your import is failing due to a missing package, you can\nmanually install dependencies using either !pip or !apt.\n\nTo view examples of installing some common dependencies, click the\n\"Open Examples\" button below.\n\u001b[0;31m---------------------------------------------------------------------------\u001b[0m\n"
          ]
        }
      ]
    },
    {
      "metadata": {
        "id": "3mhmG87Mb5Jy",
        "colab_type": "text"
      },
      "cell_type": "markdown",
      "source": [
        "# Tensors\n",
        "tensors - the atoms of machine learning"
      ]
    },
    {
      "metadata": {
        "id": "vs2rBlt2b5J1",
        "colab_type": "text"
      },
      "cell_type": "markdown",
      "source": [
        "## Tensors in numpy and pytorch"
      ]
    },
    {
      "metadata": {
        "id": "RnrhO-qsb5J7",
        "colab_type": "code",
        "colab": {}
      },
      "cell_type": "code",
      "source": [
        "import numpy as np\n",
        "from numpy.linalg import inv\n",
        "from numpy.linalg import multi_dot as mdot"
      ],
      "execution_count": 0,
      "outputs": []
    },
    {
      "metadata": {
        "id": "8UWd8drsb5KC",
        "colab_type": "code",
        "colab": {}
      },
      "cell_type": "code",
      "source": [
        "import torch"
      ],
      "execution_count": 0,
      "outputs": []
    },
    {
      "metadata": {
        "id": "iq98ssIlb5KK",
        "colab_type": "code",
        "colab": {
          "base_uri": "https://localhost:8080/",
          "height": 69
        },
        "outputId": "38c37a72-97ec-4558-c75d-412eb2744a50"
      },
      "cell_type": "code",
      "source": [
        "# numpy\n",
        "np.eye(3)"
      ],
      "execution_count": 10,
      "outputs": [
        {
          "output_type": "execute_result",
          "data": {
            "text/plain": [
              "array([[1., 0., 0.],\n",
              "       [0., 1., 0.],\n",
              "       [0., 0., 1.]])"
            ]
          },
          "metadata": {
            "tags": []
          },
          "execution_count": 10
        }
      ]
    },
    {
      "metadata": {
        "id": "rhdulPD_b5KW",
        "colab_type": "code",
        "colab": {}
      },
      "cell_type": "code",
      "source": [
        "# torch\n",
        "torch.eye(3)"
      ],
      "execution_count": 0,
      "outputs": []
    },
    {
      "metadata": {
        "id": "AMEK_HI3b5Kk",
        "colab_type": "code",
        "colab": {}
      },
      "cell_type": "code",
      "source": [
        "# numpy\n",
        "X = np.random.random((5, 3))\n",
        "X"
      ],
      "execution_count": 0,
      "outputs": []
    },
    {
      "metadata": {
        "id": "HH75POzjb5Kw",
        "colab_type": "code",
        "colab": {}
      },
      "cell_type": "code",
      "source": [
        "# pytorch\n",
        "Y = torch.rand((5, 3))\n",
        "Y"
      ],
      "execution_count": 0,
      "outputs": []
    },
    {
      "metadata": {
        "id": "nQS6cC5Ab5K2",
        "colab_type": "code",
        "colab": {}
      },
      "cell_type": "code",
      "source": [
        "X.shape"
      ],
      "execution_count": 0,
      "outputs": []
    },
    {
      "metadata": {
        "id": "yodfLKiDb5K9",
        "colab_type": "code",
        "colab": {}
      },
      "cell_type": "code",
      "source": [
        "Y.shape"
      ],
      "execution_count": 0,
      "outputs": []
    },
    {
      "metadata": {
        "id": "6bkBW7r6b5LF",
        "colab_type": "code",
        "colab": {}
      },
      "cell_type": "code",
      "source": [
        "# numpy\n",
        "X.T @ X"
      ],
      "execution_count": 0,
      "outputs": []
    },
    {
      "metadata": {
        "id": "jsfnT1RIb5LP",
        "colab_type": "code",
        "colab": {}
      },
      "cell_type": "code",
      "source": [
        "# torch\n",
        "Y.t() @ Y"
      ],
      "execution_count": 0,
      "outputs": []
    },
    {
      "metadata": {
        "id": "X_1BWAnGb5LX",
        "colab_type": "code",
        "colab": {}
      },
      "cell_type": "code",
      "source": [
        "# numpy\n",
        "inv(X.T @ X)"
      ],
      "execution_count": 0,
      "outputs": []
    },
    {
      "metadata": {
        "id": "hlgu9wOEb5Lf",
        "colab_type": "code",
        "colab": {}
      },
      "cell_type": "code",
      "source": [
        "# torch\n",
        "torch.inverse(Y.t() @ Y)"
      ],
      "execution_count": 0,
      "outputs": []
    },
    {
      "metadata": {
        "id": "SzfP5VjTb5Ll",
        "colab_type": "text"
      },
      "cell_type": "markdown",
      "source": [
        "## More on PyTorch Tensors"
      ]
    },
    {
      "metadata": {
        "id": "86c0EpdQb5Ls",
        "colab_type": "text"
      },
      "cell_type": "markdown",
      "source": [
        "Operations are also available as methods."
      ]
    },
    {
      "metadata": {
        "id": "lRtjp4cgb5Ly",
        "colab_type": "code",
        "colab": {}
      },
      "cell_type": "code",
      "source": [
        "A = torch.eye(3)\n",
        "A.add(1)"
      ],
      "execution_count": 0,
      "outputs": []
    },
    {
      "metadata": {
        "id": "G9Iq4uOLb5L8",
        "colab_type": "code",
        "colab": {}
      },
      "cell_type": "code",
      "source": [
        "A"
      ],
      "execution_count": 0,
      "outputs": []
    },
    {
      "metadata": {
        "id": "zZqDrLqYb5MF",
        "colab_type": "text"
      },
      "cell_type": "markdown",
      "source": [
        "Any operation that mutates a tensor in-place is post-fixed with an _. For example: x.copy_(y), x.t_(), will change x."
      ]
    },
    {
      "metadata": {
        "id": "L68D6AT8b5MK",
        "colab_type": "code",
        "colab": {}
      },
      "cell_type": "code",
      "source": [
        "A.add_(1)\n",
        "A"
      ],
      "execution_count": 0,
      "outputs": []
    },
    {
      "metadata": {
        "id": "O2HzO2xOb5MP",
        "colab_type": "text"
      },
      "cell_type": "markdown",
      "source": [
        "## Indexing and broadcasting\n",
        "It works as expected:"
      ]
    },
    {
      "metadata": {
        "id": "YczaIPDfb5MU",
        "colab_type": "code",
        "colab": {}
      },
      "cell_type": "code",
      "source": [
        "A[0, 0]"
      ],
      "execution_count": 0,
      "outputs": []
    },
    {
      "metadata": {
        "id": "xptYJoxmb5Mm",
        "colab_type": "code",
        "colab": {}
      },
      "cell_type": "code",
      "source": [
        "A[0]"
      ],
      "execution_count": 0,
      "outputs": []
    },
    {
      "metadata": {
        "id": "uguf5pSdb5Mt",
        "colab_type": "code",
        "colab": {}
      },
      "cell_type": "code",
      "source": [
        "A[0:2]"
      ],
      "execution_count": 0,
      "outputs": []
    },
    {
      "metadata": {
        "id": "3pFQhVspb5M5",
        "colab_type": "code",
        "colab": {}
      },
      "cell_type": "code",
      "source": [
        "A[:, 1:3]"
      ],
      "execution_count": 0,
      "outputs": []
    },
    {
      "metadata": {
        "id": "OdKPOZPkb5M9",
        "colab_type": "text"
      },
      "cell_type": "markdown",
      "source": [
        "## Converting"
      ]
    },
    {
      "metadata": {
        "id": "WyoXtfVgb5ND",
        "colab_type": "code",
        "colab": {}
      },
      "cell_type": "code",
      "source": [
        "A = torch.eye(3)\n",
        "A"
      ],
      "execution_count": 0,
      "outputs": []
    },
    {
      "metadata": {
        "id": "uAveUkA1b5NK",
        "colab_type": "code",
        "colab": {}
      },
      "cell_type": "code",
      "source": [
        "# torch --> numpy\n",
        "A.numpy()"
      ],
      "execution_count": 0,
      "outputs": []
    },
    {
      "metadata": {
        "id": "ng0fQqYkb5NP",
        "colab_type": "code",
        "colab": {}
      },
      "cell_type": "code",
      "source": [
        "# numpy --> torch\n",
        "torch.from_numpy(np.eye(3))"
      ],
      "execution_count": 0,
      "outputs": []
    },
    {
      "metadata": {
        "id": "SvPyScPmb5NT",
        "colab_type": "text"
      },
      "cell_type": "markdown",
      "source": [
        "# Autograd\n",
        "Prior to `v0.4` PyTorch used the class `Variable` to record gradients. You had to wrap `Tensor`s in `Variable`s.\n",
        "`Variable`s behaved like `Tensors`.\n",
        "\n",
        "With `v0.4` `Tensor` can record gradients directly if you tell it do do so, e.g. `torch.ones(3, requires_grad=True)`.\n",
        "There is no need for `Variable` anymore.\n",
        "\n",
        "Ref:\n",
        "- https://pytorch.org/docs/stable/autograd.html\n",
        "- https://pytorch.org/tutorials/beginner/blitz/autograd_tutorial.html"
      ]
    },
    {
      "metadata": {
        "id": "3DpqINs0b5NW",
        "colab_type": "code",
        "colab": {}
      },
      "cell_type": "code",
      "source": [
        "from torch import autograd  # you rarely use it directly"
      ],
      "execution_count": 0,
      "outputs": []
    },
    {
      "metadata": {
        "id": "Cmjou5qcb5Nd",
        "colab_type": "code",
        "colab": {}
      },
      "cell_type": "code",
      "source": [
        "w = torch.ones(1)\n",
        "w.requires_grad"
      ],
      "execution_count": 0,
      "outputs": []
    },
    {
      "metadata": {
        "id": "CUyguoEcb5Nh",
        "colab_type": "code",
        "colab": {}
      },
      "cell_type": "code",
      "source": [
        "z = torch.ones(1) * 2\n",
        "z.requires_grad"
      ],
      "execution_count": 0,
      "outputs": []
    },
    {
      "metadata": {
        "id": "RXPPkZMfb5No",
        "colab_type": "code",
        "colab": {}
      },
      "cell_type": "code",
      "source": [
        "total = w + z\n",
        "total"
      ],
      "execution_count": 0,
      "outputs": []
    },
    {
      "metadata": {
        "id": "dJR13EOdb5Ns",
        "colab_type": "code",
        "colab": {}
      },
      "cell_type": "code",
      "source": [
        "# What is going to happen here?\n",
        "total.backward()"
      ],
      "execution_count": 0,
      "outputs": []
    },
    {
      "metadata": {
        "id": "AGFKM-XXb5Nv",
        "colab_type": "code",
        "colab": {}
      },
      "cell_type": "code",
      "source": [
        "w = torch.ones(1, requires_grad=True)\n",
        "w.requires_grad"
      ],
      "execution_count": 0,
      "outputs": []
    },
    {
      "metadata": {
        "id": "cL4Ng729b5Nx",
        "colab_type": "code",
        "colab": {}
      },
      "cell_type": "code",
      "source": [
        "total = w + z\n",
        "total.requires_grad"
      ],
      "execution_count": 0,
      "outputs": []
    },
    {
      "metadata": {
        "id": "ry0gsNgcb5N4",
        "colab_type": "code",
        "colab": {}
      },
      "cell_type": "code",
      "source": [
        "total.backward()"
      ],
      "execution_count": 0,
      "outputs": []
    },
    {
      "metadata": {
        "id": "Ex_PBWBOb5OA",
        "colab_type": "code",
        "colab": {}
      },
      "cell_type": "code",
      "source": [
        "w.grad"
      ],
      "execution_count": 0,
      "outputs": []
    },
    {
      "metadata": {
        "id": "6p9orjlAb5OJ",
        "colab_type": "code",
        "colab": {}
      },
      "cell_type": "code",
      "source": [
        "with torch.no_grad():\n",
        "    total = w + z\n",
        "\n",
        "total.requires_grad"
      ],
      "execution_count": 0,
      "outputs": []
    },
    {
      "metadata": {
        "id": "TS9NbQnjb5OQ",
        "colab_type": "text"
      },
      "cell_type": "markdown",
      "source": [
        "# But what about the GPU?\n",
        "How do I use the GPU?\n",
        "\n",
        "If you have a GPU make sure that the right pytorch is installed\n",
        "\n",
        "```\n",
        "conda install pytorch torchvision cuda91 -c pytorch\n",
        "```\n",
        "Check https://pytorch.org/ for details."
      ]
    },
    {
      "metadata": {
        "id": "2TBxC0wHb5OQ",
        "colab_type": "code",
        "colab": {
          "base_uri": "https://localhost:8080/",
          "height": 34
        },
        "outputId": "663149fe-57d0-4e3c-bbea-a7e38149b84c"
      },
      "cell_type": "code",
      "source": [
        "device = torch.device(\"cuda:0\" if torch.cuda.is_available() else \"cpu\")\n",
        "device"
      ],
      "execution_count": 12,
      "outputs": [
        {
          "output_type": "execute_result",
          "data": {
            "text/plain": [
              "device(type='cpu')"
            ]
          },
          "metadata": {
            "tags": []
          },
          "execution_count": 12
        }
      ]
    },
    {
      "metadata": {
        "id": "5xLAY9-Xb5OT",
        "colab_type": "text"
      },
      "cell_type": "markdown",
      "source": [
        "If you have a GPU you should get something like: \n",
        "`device(type='cuda', index=0)`\n",
        "\n",
        "You can move data to the GPU by doing `.to(device)`."
      ]
    },
    {
      "metadata": {
        "id": "AYvabJPvb5Oa",
        "colab_type": "code",
        "colab": {
          "base_uri": "https://localhost:8080/",
          "height": 69
        },
        "outputId": "be2d8639-977f-487b-d75d-4cd5b1bd3641"
      },
      "cell_type": "code",
      "source": [
        "data = torch.eye(3)\n",
        "data.to(device)"
      ],
      "execution_count": 13,
      "outputs": [
        {
          "output_type": "execute_result",
          "data": {
            "text/plain": [
              "tensor([[1., 0., 0.],\n",
              "        [0., 1., 0.],\n",
              "        [0., 0., 1.]])"
            ]
          },
          "metadata": {
            "tags": []
          },
          "execution_count": 13
        }
      ]
    },
    {
      "metadata": {
        "id": "b34H5xppb5Oe",
        "colab_type": "text"
      },
      "cell_type": "markdown",
      "source": [
        "Note: before `v0.4` one had to use `.cuda()` and `.cpu()` to move stuff to and from the GPU.\n",
        "This littered the code with many:\n",
        "```python\n",
        "if CUDA:\n",
        "    model = model.cuda()\n",
        "```"
      ]
    },
    {
      "metadata": {
        "id": "GHVrzfYRb5Og",
        "colab_type": "text"
      },
      "cell_type": "markdown",
      "source": [
        "# LinReg with PyTorch, Gradient Descent, and GPU"
      ]
    },
    {
      "metadata": {
        "id": "YLckHSMNb5Oh",
        "colab_type": "code",
        "colab": {
          "base_uri": "https://localhost:8080/",
          "height": 282
        },
        "outputId": "c39ffb97-37cc-46fa-9b2a-2733b76fa314"
      },
      "cell_type": "code",
      "source": [
        "from sklearn.datasets import make_regression\n",
        "\n",
        "n_features = 1\n",
        "n_samples = 100\n",
        "\n",
        "X, y = make_regression(\n",
        "    n_samples=n_samples,\n",
        "    n_features=n_features,\n",
        "    noise=10,\n",
        ")\n",
        "\n",
        "fix, ax = plt.subplots()\n",
        "ax.plot(X, y, \".\")"
      ],
      "execution_count": 14,
      "outputs": [
        {
          "output_type": "execute_result",
          "data": {
            "text/plain": [
              "[<matplotlib.lines.Line2D at 0x7f401c3ccb00>]"
            ]
          },
          "metadata": {
            "tags": []
          },
          "execution_count": 14
        },
        {
          "output_type": "display_data",
          "data": {
            "image/png": "[encoded data removed]",
            "text/plain": [
              "<matplotlib.figure.Figure at 0x7f401c3cca90>"
            ]
          },
          "metadata": {
            "tags": []
          }
        }
      ]
    },
    {
      "metadata": {
        "id": "tdSWkgcBb5Om",
        "colab_type": "code",
        "colab": {}
      },
      "cell_type": "code",
      "source": [
        "X = torch.from_numpy(X).float()\n",
        "y = torch.from_numpy(y.reshape((n_samples, n_features))).float()"
      ],
      "execution_count": 0,
      "outputs": []
    },
    {
      "metadata": {
        "id": "7mXHtsAob5O2",
        "colab_type": "code",
        "colab": {}
      },
      "cell_type": "code",
      "source": [
        "from torch import nn\n",
        "from torch import optim\n",
        "\n",
        "\n",
        "class LinReg(nn.Module):\n",
        "    def __init__(self, input_dim):\n",
        "        super().__init__()\n",
        "        self.beta = nn.Linear(input_dim, 1)\n",
        "        \n",
        "    def forward(self, X):\n",
        "        return self.beta(X)"
      ],
      "execution_count": 0,
      "outputs": []
    },
    {
      "metadata": {
        "id": "HCYYq2Rsb5O6",
        "colab_type": "code",
        "colab": {}
      },
      "cell_type": "code",
      "source": [
        "# Move everything to GPU\n",
        "device = torch.device(\"cuda:0\" if torch.cuda.is_available() else \"cpu\")\n",
        "\n",
        "model = LinReg(n_features).to(device)  # <-- here\n",
        "optimizer = optim.SGD(model.parameters(), lr=0.001)\n",
        "criterion = nn.MSELoss()\n",
        "\n",
        "X, y = X.to(device), y.to(device)  # <-- here"
      ],
      "execution_count": 0,
      "outputs": []
    },
    {
      "metadata": {
        "id": "FBl-xgP2b5O_",
        "colab_type": "code",
        "colab": {}
      },
      "cell_type": "code",
      "source": [
        "# Train step\n",
        "model.train() # start train mode\n",
        "optimizer.zero_grad() # null's the gradient so that it doesn't accumulate\n",
        "\n",
        "y_ = model(X)\n",
        "loss = criterion(y_, y) # forward pass\n",
        "\n",
        "loss.backward()\n",
        "optimizer.step() # updates params of the model\n",
        "\n",
        "# should split the data into train vs eval\n",
        "\n",
        "# Eval\n",
        "model.eval() # start eval mode\n",
        "with torch.no_grad():\n",
        "    y_ = model(X)    \n",
        "\n",
        "# Vis\n",
        "fig, ax = plt.subplots()\n",
        "ax.plot(X.cpu().numpy(), y_.cpu().numpy(), \".\", label=\"pred\")\n",
        "ax.plot(X.cpu().numpy(), y.cpu().numpy(), \".\", label=\"data\")\n",
        "ax.set_title(f\"MSE: {loss.item():0.1f}\")\n",
        "ax.legend();"
      ],
      "execution_count": 0,
      "outputs": []
    },
    {
      "metadata": {
        "id": "Ciy7_tuPb5PC",
        "colab_type": "text"
      },
      "cell_type": "markdown",
      "source": [
        "# Debugging\n",
        "\n",
        "**Q: \"No debugger for your code. What do you think?\"**\n",
        "\n",
        "**A: \"I would NOT be able to code!\"**\n",
        "\n",
        "- Who does \"print-line-debugging\"?\n",
        "- Who likes debugging in tensorflow?\n",
        "- What is the intersection of those two groups?\n",
        "\n",
        "\n",
        "## IPDB cheatsheet\n",
        "IPython Debugger\n",
        "\n",
        "Taken from http://frid.github.io/blog/2014/06/05/python-ipdb-cheatsheet/\n",
        "\n",
        "- h(help): Print help\n",
        "\n",
        "- n(ext): Continue execution until the next line in the current function is reached or it returns.\n",
        "- s(tep): Execute the current line, stop at the first possible occasion (either in a function that is called or in the current function).\n",
        "- r(eturn): Continue execution until the current function returns.\n",
        "\n",
        "- r(eturn): Continue execution until the current function returns.\n",
        "- a(rgs): Print the argument list of the current function."
      ]
    },
    {
      "metadata": {
        "id": "Oe3qQ9Lmb5PE",
        "colab_type": "code",
        "colab": {}
      },
      "cell_type": "code",
      "source": [
        "from IPython.core.debugger import set_trace"
      ],
      "execution_count": 0,
      "outputs": []
    },
    {
      "metadata": {
        "id": "XTegzsgKb5PG",
        "colab_type": "code",
        "colab": {}
      },
      "cell_type": "code",
      "source": [
        "def my_function(x):\n",
        "    answer = 42\n",
        "    set_trace()\n",
        "    answer += x\n",
        "    return answer\n",
        "\n",
        "my_function(12)"
      ],
      "execution_count": 0,
      "outputs": []
    },
    {
      "metadata": {
        "id": "Ug98H8kab5PK",
        "colab_type": "text"
      },
      "cell_type": "markdown",
      "source": [
        "## Example: debuging a NN"
      ]
    },
    {
      "metadata": {
        "id": "YRs8d_0bb5PL",
        "colab_type": "code",
        "colab": {}
      },
      "cell_type": "code",
      "source": [
        "X = torch.rand((5, 3))\n",
        "X"
      ],
      "execution_count": 0,
      "outputs": []
    },
    {
      "metadata": {
        "id": "Mc2GFQODb5PM",
        "colab_type": "code",
        "colab": {}
      },
      "cell_type": "code",
      "source": [
        "class MyModule(nn.Module):\n",
        "    def __init__(self):\n",
        "        super().__init__()\n",
        "        self.lin = nn.Linear(3, 1)\n",
        "    \n",
        "    def forward(self, X):\n",
        "        # set_trace()\n",
        "        x = self.lin(X)\n",
        "        return X\n",
        "\n",
        "    \n",
        "model = MyModule()\n",
        "y_ = model(X)\n",
        "\n",
        "assert y_.shape == (5, 1), y_.shape"
      ],
      "execution_count": 0,
      "outputs": []
    },
    {
      "metadata": {
        "id": "OnyXd3eVb5PW",
        "colab_type": "text"
      },
      "cell_type": "markdown",
      "source": [
        "# Recap - what we learned so far\n",
        "- Tensor like numpy\n",
        "- No need to calculate derivatives - automatic differentiation!\n",
        "- Use `nn.Module` to create your own networks\n",
        "- `set_trace` is your friend!"
      ]
    }
  ]
}